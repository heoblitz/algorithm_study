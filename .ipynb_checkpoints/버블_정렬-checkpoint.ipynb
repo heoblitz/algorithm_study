{
 "cells": [
  {
   "cell_type": "code",
   "execution_count": 18,
   "metadata": {},
   "outputs": [],
   "source": [
    "#버블정렬\n",
    "\n",
    "def bubble_sort(data):\n",
    "    for i in range(len(data)-1):\n",
    "        for j in range(len(data)-i-1):\n",
    "            if data[j] > data[j+1]: # swap\n",
    "                data[j], data[j+1] = data[j+1], data[j]\n",
    "                \n",
    "    return data"
   ]
  },
  {
   "cell_type": "code",
   "execution_count": 19,
   "metadata": {},
   "outputs": [],
   "source": [
    "import random\n",
    "\n",
    "sample_list = random.sample(range(100), 50)"
   ]
  },
  {
   "cell_type": "code",
   "execution_count": 20,
   "metadata": {},
   "outputs": [
    {
     "name": "stdout",
     "output_type": "stream",
     "text": [
      "[32, 78, 3, 93, 43, 97, 83, 64, 72, 51, 99, 52, 13, 17, 74, 92, 8, 36, 5, 9, 16, 12, 71, 1, 63, 62, 6, 4, 86, 44, 70, 2, 11, 38, 33, 56, 15, 49, 77, 29, 67, 95, 90, 58, 48, 30, 55, 87, 20, 60]\n"
     ]
    }
   ],
   "source": [
    "print(sample_list) # 정렬 전"
   ]
  },
  {
   "cell_type": "code",
   "execution_count": 21,
   "metadata": {},
   "outputs": [
    {
     "name": "stdout",
     "output_type": "stream",
     "text": [
      "[1, 2, 3, 4, 5, 6, 8, 9, 11, 12, 13, 15, 16, 17, 20, 29, 30, 32, 33, 36, 38, 43, 44, 48, 49, 51, 52, 55, 56, 58, 60, 62, 63, 64, 67, 70, 71, 72, 74, 77, 78, 83, 86, 87, 90, 92, 93, 95, 97, 99]\n"
     ]
    }
   ],
   "source": [
    "print(bubble_sort(sample_list)) # 정렬 후"
   ]
  }
 ],
 "metadata": {
  "kernelspec": {
   "display_name": "Python 3",
   "language": "python",
   "name": "python3"
  },
  "language_info": {
   "codemirror_mode": {
    "name": "ipython",
    "version": 3
   },
   "file_extension": ".py",
   "mimetype": "text/x-python",
   "name": "python",
   "nbconvert_exporter": "python",
   "pygments_lexer": "ipython3",
   "version": "3.7.4"
  }
 },
 "nbformat": 4,
 "nbformat_minor": 2
}
