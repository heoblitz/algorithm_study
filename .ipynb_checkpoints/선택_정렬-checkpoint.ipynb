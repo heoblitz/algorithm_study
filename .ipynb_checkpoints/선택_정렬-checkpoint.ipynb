{
 "cells": [
  {
   "cell_type": "code",
   "execution_count": 91,
   "metadata": {},
   "outputs": [],
   "source": [
    "def selection_sort(data):\n",
    "    \n",
    "    for i in range(len(data)-1):\n",
    "        min_index = i\n",
    "        \n",
    "        for j in range(i+1, len(data)-1):\n",
    "            if data[min_index] > data[j]:\n",
    "                min_index = j\n",
    "        \n",
    "        if j != i:\n",
    "            data[i], data[j] = data[j], data[i]\n",
    "                \n",
    "    return data"
   ]
  },
  {
   "cell_type": "code",
   "execution_count": 54,
   "metadata": {},
   "outputs": [],
   "source": [
    "import random\n",
    "\n",
    "test_data = random.sample(range(100), 10)"
   ]
  },
  {
   "cell_type": "code",
   "execution_count": 92,
   "metadata": {},
   "outputs": [
    {
     "name": "stdout",
     "output_type": "stream",
     "text": [
      "[20, 4, 96, 54, 7]\n"
     ]
    }
   ],
   "source": [
    "test_data = [20, 4, 96, 54, 7]\n",
    "print(test_data)"
   ]
  },
  {
   "cell_type": "code",
   "execution_count": 93,
   "metadata": {},
   "outputs": [
    {
     "name": "stdout",
     "output_type": "stream",
     "text": [
      "[54, 20, 4, 96, 7]\n"
     ]
    }
   ],
   "source": [
    "print(selection_sort(test_data))"
   ]
  },
  {
   "cell_type": "code",
   "execution_count": null,
   "metadata": {},
   "outputs": [],
   "source": []
  }
 ],
 "metadata": {
  "kernelspec": {
   "display_name": "Python 3",
   "language": "python",
   "name": "python3"
  },
  "language_info": {
   "codemirror_mode": {
    "name": "ipython",
    "version": 3
   },
   "file_extension": ".py",
   "mimetype": "text/x-python",
   "name": "python",
   "nbconvert_exporter": "python",
   "pygments_lexer": "ipython3",
   "version": "3.7.4"
  }
 },
 "nbformat": 4,
 "nbformat_minor": 2
}
