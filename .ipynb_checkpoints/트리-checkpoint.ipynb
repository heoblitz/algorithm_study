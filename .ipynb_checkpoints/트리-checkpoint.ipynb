{
 "cells": [
  {
   "cell_type": "code",
   "execution_count": 3,
   "metadata": {},
   "outputs": [],
   "source": [
    "class Node():\n",
    "    def __init__(self, data):\n",
    "        self.data = data\n",
    "        self.left = None\n",
    "        self.right = None"
   ]
  },
  {
   "cell_type": "code",
   "execution_count": 9,
   "metadata": {},
   "outputs": [],
   "source": [
    "class NodeMgmt():\n",
    "    def __init__(self, head):\n",
    "        self.head = head\n",
    "    \n",
    "    def insert(self,data):\n",
    "        current_node = self.head\n",
    "        \n",
    "        while True:\n",
    "            if data < current_node.data:\n",
    "                if current_node.left is None:\n",
    "                    current_node.left = Node(data)\n",
    "                    break\n",
    "                else:\n",
    "                    current_node = current_node.left\n",
    "            else:\n",
    "                if current_node.right is None:\n",
    "                    current_node.right = Node(data)\n",
    "                    break\n",
    "                else:\n",
    "                    current_node = current_node.right\n",
    "    \n",
    "    def search(self, data):\n",
    "        current_node = self.head\n",
    "        \n",
    "        while current_node:\n",
    "            if current_node.data is data:\n",
    "                print(data)\n",
    "                return True\n",
    "            elif data < current_node.data:\n",
    "                current_node = current_node.left\n",
    "            else:\n",
    "                current_node = current_node.right\n",
    "                \n",
    "        return False\n",
    "    \n",
    "   \n",
    "    def delete(self, data):\n",
    "        current_node = self.head\n",
    "        parent_node = self.head\n",
    "        searched = False\n",
    "        \n",
    "        while current_node:\n",
    "            if current_node.data is data:\n",
    "                searched = True\n",
    "                break\n",
    "                \n",
    "            elif data < current_node.data:\n",
    "                parent_node = current_node\n",
    "                current_node = current_node.left\n",
    "            \n",
    "            else:\n",
    "                parent_node = current_node\n",
    "                current_node = current_node.right\n",
    "                \n",
    "        if searched is False:\n",
    "            return False\n",
    "        \n",
    "        # 삭제하려는 노드가 leaf 노드일 때\n",
    "        if current_node.left is None and current_node.right is None:\n",
    "            if data < parent_node.data:\n",
    "                parent_node.left = None\n",
    "            else:\n",
    "                parent_node.right = None\n",
    "                \n",
    "            del(current_node)\n",
    "            "
   ]
  },
  {
   "cell_type": "code",
   "execution_count": 16,
   "metadata": {},
   "outputs": [
    {
     "data": {
      "text/plain": [
       "False"
      ]
     },
     "execution_count": 16,
     "metadata": {},
     "output_type": "execute_result"
    }
   ],
   "source": [
    "head = Node(0)\n",
    "tree = NodeMgmt(head)\n",
    "tree.insert(5)\n",
    "tree.insert(2)\n",
    "tree.insert(8)\n",
    "tree.insert(4)\n",
    "tree.insert(2)\n",
    "tree.search(6)\n",
    "\n",
    "\n",
    "tree.delete(6)\n",
    "tree.search(6)\n"
   ]
  },
  {
   "cell_type": "code",
   "execution_count": null,
   "metadata": {},
   "outputs": [],
   "source": []
  },
  {
   "cell_type": "code",
   "execution_count": null,
   "metadata": {},
   "outputs": [],
   "source": []
  }
 ],
 "metadata": {
  "kernelspec": {
   "display_name": "Python 3",
   "language": "python",
   "name": "python3"
  },
  "language_info": {
   "codemirror_mode": {
    "name": "ipython",
    "version": 3
   },
   "file_extension": ".py",
   "mimetype": "text/x-python",
   "name": "python",
   "nbconvert_exporter": "python",
   "pygments_lexer": "ipython3",
   "version": "3.7.4"
  }
 },
 "nbformat": 4,
 "nbformat_minor": 2
}
