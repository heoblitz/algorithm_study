{
 "cells": [
  {
   "cell_type": "code",
   "execution_count": 41,
   "metadata": {},
   "outputs": [],
   "source": [
    "def insertion_sort(data):\n",
    "    for i in range(1, len(data)): # index 0 는 정렬되어 있다고 가정함.       \n",
    "        key = data[i]\n",
    "        \n",
    "        for j in range(i, 0, -1):\n",
    "            \n",
    "            if key < data[j-1]:\n",
    "                data[j] = data[j-1]\n",
    "            else:\n",
    "                break\n",
    "            # swap 대신 key value 사용.\n",
    "            data[j-1] = key\n",
    "    \n",
    "    return data"
   ]
  }
 ],
 "metadata": {
  "kernelspec": {
   "display_name": "Python 3",
   "language": "python",
   "name": "python3"
  },
  "language_info": {
   "codemirror_mode": {
    "name": "ipython",
    "version": 3
   },
   "file_extension": ".py",
   "mimetype": "text/x-python",
   "name": "python",
   "nbconvert_exporter": "python",
   "pygments_lexer": "ipython3",
   "version": "3.7.4"
  }
 },
 "nbformat": 4,
 "nbformat_minor": 2
}
