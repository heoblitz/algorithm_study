{
 "cells": [
  {
   "cell_type": "code",
   "execution_count": 45,
   "metadata": {},
   "outputs": [],
   "source": [
    "def insertion_sort(data):\n",
    "    for i in range(1, len(data)): # index 0 는 정렬되어 있다고 가정함.       \n",
    "        key = data[i]\n",
    "        \n",
    "        for j in range(i, 0, -1):\n",
    "            \n",
    "            if key < data[j-1]:\n",
    "                data[j] = data[j-1]\n",
    "            else:\n",
    "                break\n",
    "            # swap 대신 key value 사용.\n",
    "            data[j-1] = key\n",
    "    \n",
    "    return data"
   ]
  },
  {
   "cell_type": "code",
   "execution_count": 46,
   "metadata": {},
   "outputs": [
    {
     "name": "stdout",
     "output_type": "stream",
     "text": [
      "[35, 74, 85, 73, 45, 97, 4, 71, 32, 77, 16, 55, 69, 81, 22, 14, 79, 41, 75, 38, 8, 17, 25, 7, 64, 33, 67, 94, 88, 2, 15, 63, 13, 31, 54, 49, 5, 68, 28, 47, 66, 30, 72, 70, 26, 40, 56, 39, 65, 98]\n"
     ]
    }
   ],
   "source": [
    "import random\n",
    "\n",
    "test_array = random.sample(range(100), 50)\n",
    "\n",
    "print(test_array)"
   ]
  },
  {
   "cell_type": "code",
   "execution_count": 47,
   "metadata": {},
   "outputs": [
    {
     "name": "stdout",
     "output_type": "stream",
     "text": [
      "[2, 4, 5, 7, 8, 13, 14, 15, 16, 17, 22, 25, 26, 28, 30, 31, 32, 33, 35, 38, 39, 40, 41, 45, 47, 49, 54, 55, 56, 63, 64, 65, 66, 67, 68, 69, 70, 71, 72, 73, 74, 75, 77, 79, 81, 85, 88, 94, 97, 98]\n"
     ]
    }
   ],
   "source": [
    "print(insertion_sort(test_array))"
   ]
  },
  {
   "cell_type": "code",
   "execution_count": null,
   "metadata": {},
   "outputs": [],
   "source": []
  }
 ],
 "metadata": {
  "kernelspec": {
   "display_name": "Python 3",
   "language": "python",
   "name": "python3"
  },
  "language_info": {
   "codemirror_mode": {
    "name": "ipython",
    "version": 3
   },
   "file_extension": ".py",
   "mimetype": "text/x-python",
   "name": "python",
   "nbconvert_exporter": "python",
   "pygments_lexer": "ipython3",
   "version": "3.7.4"
  }
 },
 "nbformat": 4,
 "nbformat_minor": 2
}
