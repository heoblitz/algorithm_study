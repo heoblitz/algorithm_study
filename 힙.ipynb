{
 "cells": [
  {
   "cell_type": "code",
   "execution_count": 30,
   "metadata": {},
   "outputs": [
    {
     "data": {
      "text/plain": [
       "1"
      ]
     },
     "execution_count": 30,
     "metadata": {},
     "output_type": "execute_result"
    }
   ],
   "source": [
    "# 자식 노드로 부모 노드 구하기\n",
    "\n",
    "2 // 2"
   ]
  },
  {
   "cell_type": "code",
   "execution_count": 31,
   "metadata": {},
   "outputs": [
    {
     "data": {
      "text/plain": [
       "3"
      ]
     },
     "execution_count": 31,
     "metadata": {},
     "output_type": "execute_result"
    }
   ],
   "source": [
    "# 부모 노드로 자식 노드 구하기\n",
    "\n",
    "1 * 2 # 왼쪽 자식 노드\n",
    "\n",
    "1 * 2 + 1 # 오른쪽 자식 노드"
   ]
  },
  {
   "cell_type": "code",
   "execution_count": 32,
   "metadata": {},
   "outputs": [],
   "source": [
    "# 완전 이진트리 이기 때문에 배열(Array) 를 사용한다.\n",
    "# 인덱스는 편리를 위해 1부터 시작한다"
   ]
  },
  {
   "cell_type": "code",
   "execution_count": 33,
   "metadata": {},
   "outputs": [],
   "source": [
    "class Heap:\n",
    "    def __init__(self, data):\n",
    "        self.heap_array = list()\n",
    "        self.heap_array.append(None)\n",
    "        self.heap_array.append(data)\n",
    "    \n",
    "    def move_up(self, insert_index):\n",
    "        if insert_index <= 1:\n",
    "            return False\n",
    "        \n",
    "        parent_index = insert_index // 2\n",
    "        \n",
    "        if self.heap_array[insert_index] > self.heap_array[parent_index]:\n",
    "            return True\n",
    "        else:\n",
    "            return False\n",
    "        \n",
    "    \n",
    "    def insert(self, data):\n",
    "        self.heap_array.append(data)\n",
    "        \n",
    "        insert_index = len(self.heap_array) - 1 # 마지막 자식 노드 인덱스를 의미\n",
    "        \n",
    "        while self.move_up(insert_index):\n",
    "            parent_index = insert_index // 2\n",
    "            # swap\n",
    "            self.heap_array[parent_index], self.heap_array[insert_index] = self.heap_array[insert_index], self.heap_array[parent_index]\n",
    "            insert_index = parent_index\n",
    "            \n",
    "        print(insert_index)\n",
    "        return True"
   ]
  },
  {
   "cell_type": "code",
   "execution_count": 34,
   "metadata": {},
   "outputs": [
    {
     "data": {
      "text/plain": [
       "[None, 10]"
      ]
     },
     "execution_count": 34,
     "metadata": {},
     "output_type": "execute_result"
    }
   ],
   "source": [
    "heap = Heap(10)\n",
    "heap.heap_array\n"
   ]
  },
  {
   "cell_type": "code",
   "execution_count": 35,
   "metadata": {},
   "outputs": [
    {
     "name": "stdout",
     "output_type": "stream",
     "text": [
      "1\n",
      "3\n",
      "1\n",
      "1\n"
     ]
    },
    {
     "data": {
      "text/plain": [
       "True"
      ]
     },
     "execution_count": 35,
     "metadata": {},
     "output_type": "execute_result"
    }
   ],
   "source": [
    "heap.insert(20)\n",
    "heap.insert(10)\n",
    "heap.insert(40)\n",
    "heap.insert(70)"
   ]
  },
  {
   "cell_type": "code",
   "execution_count": 36,
   "metadata": {},
   "outputs": [
    {
     "data": {
      "text/plain": [
       "[None, 70, 40, 10, 10, 20]"
      ]
     },
     "execution_count": 36,
     "metadata": {},
     "output_type": "execute_result"
    }
   ],
   "source": [
    "heap.heap_array"
   ]
  },
  {
   "cell_type": "code",
   "execution_count": null,
   "metadata": {},
   "outputs": [],
   "source": []
  }
 ],
 "metadata": {
  "kernelspec": {
   "display_name": "Python 3",
   "language": "python",
   "name": "python3"
  },
  "language_info": {
   "codemirror_mode": {
    "name": "ipython",
    "version": 3
   },
   "file_extension": ".py",
   "mimetype": "text/x-python",
   "name": "python",
   "nbconvert_exporter": "python",
   "pygments_lexer": "ipython3",
   "version": "3.7.4"
  }
 },
 "nbformat": 4,
 "nbformat_minor": 2
}
