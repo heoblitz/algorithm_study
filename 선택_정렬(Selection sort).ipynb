{
 "cells": [
  {
   "cell_type": "code",
   "execution_count": 116,
   "metadata": {},
   "outputs": [],
   "source": [
    "def selection_sort(data):\n",
    "    \n",
    "    for i in range(len(data)):\n",
    "        min_index = i\n",
    "        \n",
    "        for j in range(i+1, len(data)):\n",
    "            if data[min_index] > data[j]:\n",
    "                min_index = j\n",
    "        \n",
    "        data[i], data[min_index] = data[min_index], data[i]\n",
    "        \n",
    "    return data"
   ]
  },
  {
   "cell_type": "code",
   "execution_count": 117,
   "metadata": {},
   "outputs": [],
   "source": [
    "import random\n",
    "\n",
    "test_data = random.sample(range(100), 50)"
   ]
  },
  {
   "cell_type": "code",
   "execution_count": 118,
   "metadata": {},
   "outputs": [
    {
     "name": "stdout",
     "output_type": "stream",
     "text": [
      "[51, 64, 83, 3, 39, 18, 75, 59, 29, 32, 71, 11, 48, 97, 23, 78, 61, 40, 27, 12, 44, 82, 20, 65, 57, 98, 10, 79, 6, 2, 28, 70, 46, 52, 13, 63, 60, 81, 7, 56, 58, 22, 72, 41, 47, 36, 14, 21, 69, 55]\n"
     ]
    }
   ],
   "source": [
    "print(test_data)"
   ]
  },
  {
   "cell_type": "code",
   "execution_count": 119,
   "metadata": {},
   "outputs": [
    {
     "name": "stdout",
     "output_type": "stream",
     "text": [
      "[2, 3, 6, 7, 10, 11, 12, 13, 14, 18, 20, 21, 22, 23, 27, 28, 29, 32, 36, 39, 40, 41, 44, 46, 47, 48, 51, 52, 55, 56, 57, 58, 59, 60, 61, 63, 64, 65, 69, 70, 71, 72, 75, 78, 79, 81, 82, 83, 97, 98]\n"
     ]
    }
   ],
   "source": [
    "print(selection_sort(test_data))"
   ]
  },
  {
   "cell_type": "code",
   "execution_count": null,
   "metadata": {},
   "outputs": [],
   "source": []
  }
 ],
 "metadata": {
  "kernelspec": {
   "display_name": "Python 3",
   "language": "python",
   "name": "python3"
  },
  "language_info": {
   "codemirror_mode": {
    "name": "ipython",
    "version": 3
   },
   "file_extension": ".py",
   "mimetype": "text/x-python",
   "name": "python",
   "nbconvert_exporter": "python",
   "pygments_lexer": "ipython3",
   "version": "3.7.4"
  }
 },
 "nbformat": 4,
 "nbformat_minor": 2
}
