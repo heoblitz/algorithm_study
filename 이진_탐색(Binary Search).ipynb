{
 "cells": [
  {
   "cell_type": "code",
   "execution_count": 74,
   "metadata": {},
   "outputs": [
    {
     "name": "stdout",
     "output_type": "stream",
     "text": [
      "[59, 79, 10, 91, 56, 29, 36, 88, 83, 15, 1, 78, 89, 21, 80, 27, 90, 44, 64, 54, 39, 94, 8, 92, 67]\n",
      "[1, 8, 10, 15, 21, 27, 29, 36, 39, 44, 54, 56, 59, 64, 67, 78, 79, 80, 83, 88, 89, 90, 91, 92, 94]\n"
     ]
    }
   ],
   "source": [
    "import random\n",
    "\n",
    "data_list = random.sample(range(100), 25)\n",
    "print(data_list)\n",
    "data_list.sort()\n",
    "print(data_list)"
   ]
  },
  {
   "cell_type": "code",
   "execution_count": 75,
   "metadata": {},
   "outputs": [],
   "source": [
    "def binary_search(data_list, search):\n",
    "    if len(data_list) <= 1 and data_list[0] == search:\n",
    "        return True\n",
    "    elif len(data_list) <= 1 and data_list[0] != search:\n",
    "        return False\n",
    "    \n",
    "    pivot = len(data_list) // 2\n",
    "        \n",
    "    if data_list[pivot] == search:\n",
    "        return True\n",
    "    else:\n",
    "        if data_list[pivot] < search:\n",
    "            return binary_search(data_list[pivot:], search)\n",
    "        else:\n",
    "            return binary_search(data_list[:pivot], search)"
   ]
  },
  {
   "cell_type": "code",
   "execution_count": 76,
   "metadata": {},
   "outputs": [
    {
     "data": {
      "text/plain": [
       "False"
      ]
     },
     "execution_count": 76,
     "metadata": {},
     "output_type": "execute_result"
    }
   ],
   "source": [
    "binary_search(data_list, 16)"
   ]
  },
  {
   "cell_type": "code",
   "execution_count": 77,
   "metadata": {},
   "outputs": [
    {
     "data": {
      "text/plain": [
       "False"
      ]
     },
     "execution_count": 77,
     "metadata": {},
     "output_type": "execute_result"
    }
   ],
   "source": [
    "binary_search(data_list, 71)"
   ]
  }
 ],
 "metadata": {
  "kernelspec": {
   "display_name": "Python 3",
   "language": "python",
   "name": "python3"
  },
  "language_info": {
   "codemirror_mode": {
    "name": "ipython",
    "version": 3
   },
   "file_extension": ".py",
   "mimetype": "text/x-python",
   "name": "python",
   "nbconvert_exporter": "python",
   "pygments_lexer": "ipython3",
   "version": "3.7.7"
  }
 },
 "nbformat": 4,
 "nbformat_minor": 4
}
