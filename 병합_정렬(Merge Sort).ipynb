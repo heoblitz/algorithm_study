{
 "cells": [
  {
   "cell_type": "code",
   "execution_count": 60,
   "metadata": {},
   "outputs": [],
   "source": [
    "left = [1,3,5,7,9]\n",
    "right = [2,4,6,8]"
   ]
  },
  {
   "cell_type": "code",
   "execution_count": 61,
   "metadata": {},
   "outputs": [],
   "source": [
    "# 받은 데이터 둘로 나누기\n",
    "def divide(data):\n",
    "    pivot = len(data) // 2\n",
    "    \n",
    "    left = data[:pivot]\n",
    "    right = data[pivot:]\n",
    "    \n",
    "    return (left, right)"
   ]
  },
  {
   "cell_type": "code",
   "execution_count": 62,
   "metadata": {},
   "outputs": [
    {
     "name": "stdout",
     "output_type": "stream",
     "text": [
      "([1, 3], [5, 7, 9])\n"
     ]
    }
   ],
   "source": [
    "print(divide(left))"
   ]
  },
  {
   "cell_type": "code",
   "execution_count": 63,
   "metadata": {},
   "outputs": [],
   "source": [
    "# 정렬된 배열 병합하기\n",
    "def merge(left, right):\n",
    "    sorted_list = list()\n",
    "    left_index, right_index = 0, 0\n",
    "    \n",
    "    # left, right 존재할 때\n",
    "    while len(left) > left_index and len(right) > right_index:\n",
    "        if left[left_index] >= right[right_index]:\n",
    "            sorted_list.append(right[right_index])\n",
    "            right_index += 1\n",
    "        else:\n",
    "            sorted_list.append(left[left_index])\n",
    "            left_index += 1\n",
    "    \n",
    "    # left 배열만 있을 때\n",
    "    while len(left) > left_index:\n",
    "        sorted_list.append(left[left_index])\n",
    "        left_index += 1\n",
    "    \n",
    "    # right 배열만 있을 때\n",
    "    while len(right) > right_index:\n",
    "        sorted_list.append(right[right_index])\n",
    "        right_index += 1\n",
    "    \n",
    "    return sorted_list"
   ]
  },
  {
   "cell_type": "code",
   "execution_count": 64,
   "metadata": {},
   "outputs": [
    {
     "data": {
      "text/plain": [
       "[1, 2, 3, 4, 5, 6, 7, 8, 9]"
      ]
     },
     "execution_count": 64,
     "metadata": {},
     "output_type": "execute_result"
    }
   ],
   "source": [
    "merge(left, right)"
   ]
  },
  {
   "cell_type": "code",
   "execution_count": 70,
   "metadata": {},
   "outputs": [],
   "source": [
    "# 병합 정렬\n",
    "\n",
    "def divide(data_list):\n",
    "    if len(data_list) <= 1:\n",
    "        return data_list\n",
    "    \n",
    "    pivot = len(data_list) // 2\n",
    "    \n",
    "    left = divide(data_list[:pivot])\n",
    "    right = divide(data_list[pivot:])\n",
    "    \n",
    "    return merge(left, right)\n",
    "\n",
    "def merge(left, right):    \n",
    "    sorted_list = list()\n",
    "    left_index, right_index = 0, 0\n",
    "    \n",
    "    while len(left) > left_index and len(right) > right_index:\n",
    "        if left[left_index] >= right[right_index]:\n",
    "            sorted_list.append(right[right_index])\n",
    "            right_index += 1\n",
    "        else:\n",
    "            sorted_list.append(left[left_index])\n",
    "            left_index += 1\n",
    "    \n",
    "    while len(left) > left_index:\n",
    "        sorted_list.append(left[left_index])\n",
    "        left_index += 1\n",
    "    \n",
    "    while len(right) > right_index:\n",
    "        sorted_list.append(right[right_index])\n",
    "        right_index += 1\n",
    "        \n",
    "    return sorted_list"
   ]
  },
  {
   "cell_type": "code",
   "execution_count": 71,
   "metadata": {},
   "outputs": [
    {
     "name": "stdout",
     "output_type": "stream",
     "text": [
      "[63, 29, 6, 23, 42, 7, 28, 36, 32, 58, 2, 0, 67, 85, 27, 53, 26, 19, 43, 82, 69, 4, 93, 61, 60, 51, 75, 87, 56, 41, 57, 1, 92, 48, 33, 39, 12, 80, 24, 21, 55, 52, 90, 11, 46, 40, 65, 89, 5, 78]\n"
     ]
    }
   ],
   "source": [
    "import random\n",
    "\n",
    "sorted_list = random.sample(range(100), 50)\n",
    "print(sorted_list)"
   ]
  },
  {
   "cell_type": "code",
   "execution_count": 72,
   "metadata": {},
   "outputs": [
    {
     "name": "stdout",
     "output_type": "stream",
     "text": [
      "[0, 1, 2, 4, 5, 6, 7, 11, 12, 19, 21, 23, 24, 26, 27, 28, 29, 32, 33, 36, 39, 40, 41, 42, 43, 46, 48, 51, 52, 53, 55, 56, 57, 58, 60, 61, 63, 65, 67, 69, 75, 78, 80, 82, 85, 87, 89, 90, 92, 93]\n"
     ]
    }
   ],
   "source": [
    "print(divide(sorted_list))"
   ]
  }
 ],
 "metadata": {
  "kernelspec": {
   "display_name": "Python 3",
   "language": "python",
   "name": "python3"
  },
  "language_info": {
   "codemirror_mode": {
    "name": "ipython",
    "version": 3
   },
   "file_extension": ".py",
   "mimetype": "text/x-python",
   "name": "python",
   "nbconvert_exporter": "python",
   "pygments_lexer": "ipython3",
   "version": "3.7.4"
  }
 },
 "nbformat": 4,
 "nbformat_minor": 4
}
