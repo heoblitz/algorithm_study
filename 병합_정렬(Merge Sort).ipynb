{
 "cells": [
  {
   "cell_type": "code",
   "execution_count": 24,
   "metadata": {},
   "outputs": [],
   "source": [
    "left = [1,3,5,7,9]\n",
    "right = [2,4,6,8]"
   ]
  },
  {
   "cell_type": "code",
   "execution_count": 25,
   "metadata": {},
   "outputs": [],
   "source": [
    "# 받은 데이터 둘로 나누기\n",
    "def divide(data):\n",
    "    pivot = len(data) // 2\n",
    "    \n",
    "    left = data[:pivot]\n",
    "    right = data[pivot:]\n",
    "    \n",
    "    return (left, right)"
   ]
  },
  {
   "cell_type": "code",
   "execution_count": 26,
   "metadata": {},
   "outputs": [
    {
     "name": "stdout",
     "output_type": "stream",
     "text": [
      "([1, 3], [5, 7, 9])\n"
     ]
    }
   ],
   "source": [
    "print(divide(left))"
   ]
  },
  {
   "cell_type": "code",
   "execution_count": 27,
   "metadata": {},
   "outputs": [],
   "source": [
    "# 정렬된 배열 병합하기\n",
    "def merge(left, right):\n",
    "    sorted_list = list()\n",
    "    left_index, right_index = 0, 0\n",
    "    \n",
    "    # left, right 존재할 때\n",
    "    while len(left) > left_index and len(right) > right_index:\n",
    "        if left[left_index] >= right[right_index]:\n",
    "            sorted_list.append(right[right_index])\n",
    "            right_index += 1\n",
    "        else:\n",
    "            sorted_list.append(left[left_index])\n",
    "            left_index += 1\n",
    "    \n",
    "    # left 배열만 있을 때\n",
    "    while len(left) > left_index:\n",
    "        sorted_list.append(left[left_index])\n",
    "        left_index += 1\n",
    "    \n",
    "    # right 배열만 있을 때\n",
    "    while len(right) > right_index:\n",
    "        sorted_list.append(right[right_index])\n",
    "        right_index += 1\n",
    "    \n",
    "    return sorted_list"
   ]
  },
  {
   "cell_type": "code",
   "execution_count": 28,
   "metadata": {},
   "outputs": [
    {
     "data": {
      "text/plain": [
       "[1, 2, 3, 4, 5, 6, 7, 8, 9]"
      ]
     },
     "execution_count": 28,
     "metadata": {},
     "output_type": "execute_result"
    }
   ],
   "source": [
    "merge(left, right)"
   ]
  }
 ],
 "metadata": {
  "kernelspec": {
   "display_name": "Python 3",
   "language": "python",
   "name": "python3"
  },
  "language_info": {
   "codemirror_mode": {
    "name": "ipython",
    "version": 3
   },
   "file_extension": ".py",
   "mimetype": "text/x-python",
   "name": "python",
   "nbconvert_exporter": "python",
   "pygments_lexer": "ipython3",
   "version": "3.7.5"
  }
 },
 "nbformat": 4,
 "nbformat_minor": 4
}
