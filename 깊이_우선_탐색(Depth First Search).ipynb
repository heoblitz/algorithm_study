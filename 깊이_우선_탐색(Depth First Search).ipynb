{
 "cells": [
  {
   "cell_type": "markdown",
   "metadata": {},
   "source": [
    "<img src=\"https://www.fun-coding.org/00_Images/dfsgraph.png\" width=700>"
   ]
  },
  {
   "cell_type": "code",
   "execution_count": 11,
   "metadata": {},
   "outputs": [],
   "source": [
    "graph = {\n",
    "    'A' : ['B', 'C'],\n",
    "    'B' : ['A', 'D'],\n",
    "    'C' : ['A', 'G', 'H', 'I'],\n",
    "    'D' : ['B', 'E', 'F'],\n",
    "    'E' : ['D'],\n",
    "    'F' : ['D'],\n",
    "    'G' : ['C'],\n",
    "    'H' : ['C'],\n",
    "    'I' : ['C', 'J'],\n",
    "    'J' : ['I'],\n",
    "}"
   ]
  },
  {
   "cell_type": "code",
   "execution_count": 12,
   "metadata": {},
   "outputs": [
    {
     "data": {
      "text/plain": [
       "dict"
      ]
     },
     "execution_count": 12,
     "metadata": {},
     "output_type": "execute_result"
    }
   ],
   "source": [
    "type(graph)"
   ]
  },
  {
   "cell_type": "code",
   "execution_count": 13,
   "metadata": {},
   "outputs": [],
   "source": [
    "def dfs(graph, start_node):\n",
    "    visited_node, need_visit_stack = list(), list()\n",
    "    \n",
    "    need_visit_stack.append(start_node) # dfs need_visit 은 stack 으로 구현한다.\n",
    "    \n",
    "    while need_visit_stack:\n",
    "        \n",
    "        node = need_visit_stack.pop()\n",
    "         \n",
    "        if node not in visited_node:\n",
    "            visited_node.append(node)\n",
    "            need_visit_stack.extend(graph[node])\n",
    "            \n",
    "    return visited_node"
   ]
  },
  {
   "cell_type": "code",
   "execution_count": 14,
   "metadata": {},
   "outputs": [
    {
     "data": {
      "text/plain": [
       "['A', 'C', 'I', 'J', 'H', 'G', 'B', 'D', 'F', 'E']"
      ]
     },
     "execution_count": 14,
     "metadata": {},
     "output_type": "execute_result"
    }
   ],
   "source": [
    "dfs(graph, 'A')"
   ]
  }
 ],
 "metadata": {
  "kernelspec": {
   "display_name": "Python 3",
   "language": "python",
   "name": "python3"
  },
  "language_info": {
   "codemirror_mode": {
    "name": "ipython",
    "version": 3
   },
   "file_extension": ".py",
   "mimetype": "text/x-python",
   "name": "python",
   "nbconvert_exporter": "python",
   "pygments_lexer": "ipython3",
   "version": "3.7.4"
  }
 },
 "nbformat": 4,
 "nbformat_minor": 4
}
