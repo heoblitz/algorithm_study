{
 "cells": [
  {
   "cell_type": "code",
   "execution_count": 34,
   "metadata": {},
   "outputs": [],
   "source": [
    "#버블정렬\n",
    "\n",
    "def bubble_sort(data):\n",
    "    changed = False\n",
    "    \n",
    "    for i in range(len(data)-1):\n",
    "        for j in range(len(data)-i-1):\n",
    "            if data[j] > data[j+1]: # swap\n",
    "                data[j], data[j+1] = data[j+1], data[j]\n",
    "                changed = True\n",
    "                \n",
    "            if changed is False:\n",
    "                break\n",
    "                \n",
    "    return data"
   ]
  },
  {
   "cell_type": "code",
   "execution_count": 35,
   "metadata": {},
   "outputs": [],
   "source": [
    "import random\n",
    "\n",
    "sample_list = random.sample(range(100), 50)"
   ]
  },
  {
   "cell_type": "code",
   "execution_count": 36,
   "metadata": {},
   "outputs": [
    {
     "name": "stdout",
     "output_type": "stream",
     "text": [
      "[88, 79, 40, 11, 48, 42, 81, 47, 41, 75, 29, 45, 56, 80, 72, 0, 44, 15, 64, 98, 55, 70, 14, 21, 67, 66, 17, 78, 77, 84, 32, 85, 54, 76, 20, 92, 19, 1, 52, 35, 69, 83, 93, 33, 86, 5, 18, 74, 53, 71]\n"
     ]
    }
   ],
   "source": [
    "print(sample_list) # 정렬 전"
   ]
  },
  {
   "cell_type": "code",
   "execution_count": 37,
   "metadata": {},
   "outputs": [
    {
     "name": "stdout",
     "output_type": "stream",
     "text": [
      "[0, 1, 5, 11, 14, 15, 17, 18, 19, 20, 21, 29, 32, 33, 35, 40, 41, 42, 44, 45, 47, 48, 52, 53, 54, 55, 56, 64, 66, 67, 69, 70, 71, 72, 74, 75, 76, 77, 78, 79, 80, 81, 83, 84, 85, 86, 88, 92, 93, 98]\n"
     ]
    }
   ],
   "source": [
    "print(bubble_sort(sample_list)) # 정렬 후"
   ]
  },
  {
   "cell_type": "code",
   "execution_count": null,
   "metadata": {},
   "outputs": [],
   "source": []
  }
 ],
 "metadata": {
  "kernelspec": {
   "display_name": "Python 3",
   "language": "python",
   "name": "python3"
  },
  "language_info": {
   "codemirror_mode": {
    "name": "ipython",
    "version": 3
   },
   "file_extension": ".py",
   "mimetype": "text/x-python",
   "name": "python",
   "nbconvert_exporter": "python",
   "pygments_lexer": "ipython3",
   "version": "3.7.4"
  }
 },
 "nbformat": 4,
 "nbformat_minor": 2
}
