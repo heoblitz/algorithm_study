{
 "cells": [
  {
   "cell_type": "code",
   "execution_count": null,
   "metadata": {},
   "outputs": [],
   "source": [
    "# 정해진 현금이 주어지면\n",
    "# 최대한 적은 동전으로 환전해주는 함수\n",
    "# 500, 100, 50, 1 원 동전이 있다고 가정한다."
   ]
  },
  {
   "cell_type": "code",
   "execution_count": 2,
   "metadata": {},
   "outputs": [
    {
     "name": "stdout",
     "output_type": "stream",
     "text": [
      "4720\n",
      "(31, [[500, 9], [100, 2], [50, 0], [1, 20]])\n"
     ]
    }
   ],
   "source": [
    "coin_list = [500, 100, 50, 1]\n",
    "\n",
    "money = int(input())\n",
    "\n",
    "def coin_count(money, coin_list):\n",
    "    coin_list.sort(reverse=True)\n",
    "    use_coin_list = list()\n",
    "    total_count = 0\n",
    "\n",
    "    for coin in coin_list:\n",
    "        count = money // coin\n",
    "        total_count += count\n",
    "        money -= coin * count\n",
    "        use_coin_list.append([coin, count])\n",
    "\n",
    "    return total_count, use_coin_list\n",
    "\n",
    "print(coin_count(money, coin_list))"
   ]
  }
 ],
 "metadata": {
  "kernelspec": {
   "display_name": "Python 3",
   "language": "python",
   "name": "python3"
  },
  "language_info": {
   "codemirror_mode": {
    "name": "ipython",
    "version": 3
   },
   "file_extension": ".py",
   "mimetype": "text/x-python",
   "name": "python",
   "nbconvert_exporter": "python",
   "pygments_lexer": "ipython3",
   "version": "3.7.4"
  }
 },
 "nbformat": 4,
 "nbformat_minor": 2
}
