{
 "cells": [
  {
   "cell_type": "code",
   "execution_count": 27,
   "metadata": {},
   "outputs": [],
   "source": [
    "class Node():\n",
    "    def __init__(self, data):\n",
    "        self.data = data\n",
    "        self.next = None\n",
    "\n",
    "class NodeMgmt():\n",
    "    def __init__(self, head):\n",
    "        self.head = head\n",
    "    \n",
    "    def insert(self, data):\n",
    "        if self.head == None:\n",
    "            self.head = Node(0)\n",
    "            \n",
    "        current_node = self.head\n",
    "        \n",
    "        while current_node.next:\n",
    "            current_node = current_node.next\n",
    "        \n",
    "        current_node.next = Node(data)\n",
    "    \n",
    "    \n",
    "    def delete(self, data):\n",
    "        current_node = self.head\n",
    "        parent_node = self.head\n",
    "        \n",
    "        if self.head.data == data: # head가 삭제할 노드일 때\n",
    "            self.head = self.head.next\n",
    "            del(self.head)\n",
    "            return True\n",
    "        \n",
    "        while current_node and current_node.data != data:\n",
    "            parent_node = current_node\n",
    "            current_node = current_node.next\n",
    "        \n",
    "        if current_node == None:\n",
    "            return False\n",
    "        \n",
    "        else:\n",
    "            parent_node.next = current_node.next\n",
    "            del current_node\n",
    "            return True\n",
    "    \n",
    "    def search(self, data):\n",
    "        current_node = head.data\n",
    "        \n",
    "        while current_node:\n",
    "            if current_node == data:\n",
    "                return True\n",
    "            else:\n",
    "                current_node = current_node.next\n",
    "                \n",
    "        return False\n",
    "    \n",
    "    def printNode(self): # 링크드 리스트를 출력해주는 함수\n",
    "        current_node = self.head\n",
    "        \n",
    "        while current_node:\n",
    "            print(current_node.data)\n",
    "            \n",
    "            current_node = current_node.next"
   ]
  },
  {
   "cell_type": "code",
   "execution_count": 28,
   "metadata": {},
   "outputs": [],
   "source": [
    "head = Node(0)\n",
    "\n",
    "node = NodeMgmt(head)\n",
    "\n",
    "for i in range(1, 10):\n",
    "    node.insert(i)"
   ]
  },
  {
   "cell_type": "code",
   "execution_count": 29,
   "metadata": {},
   "outputs": [
    {
     "name": "stdout",
     "output_type": "stream",
     "text": [
      "0\n",
      "1\n",
      "2\n",
      "3\n",
      "4\n",
      "5\n",
      "6\n",
      "7\n",
      "8\n",
      "9\n"
     ]
    }
   ],
   "source": [
    "node.printNode()"
   ]
  },
  {
   "cell_type": "code",
   "execution_count": 30,
   "metadata": {},
   "outputs": [
    {
     "data": {
      "text/plain": [
       "True"
      ]
     },
     "execution_count": 30,
     "metadata": {},
     "output_type": "execute_result"
    }
   ],
   "source": [
    "node.delete(8)\n",
    "node.delete(9)"
   ]
  },
  {
   "cell_type": "code",
   "execution_count": 31,
   "metadata": {},
   "outputs": [
    {
     "name": "stdout",
     "output_type": "stream",
     "text": [
      "0\n",
      "1\n",
      "2\n",
      "3\n",
      "4\n",
      "5\n",
      "6\n",
      "7\n"
     ]
    }
   ],
   "source": [
    "node.printNode()"
   ]
  }
 ],
 "metadata": {
  "kernelspec": {
   "display_name": "Python 3",
   "language": "python",
   "name": "python3"
  },
  "language_info": {
   "codemirror_mode": {
    "name": "ipython",
    "version": 3
   },
   "file_extension": ".py",
   "mimetype": "text/x-python",
   "name": "python",
   "nbconvert_exporter": "python",
   "pygments_lexer": "ipython3",
   "version": "3.7.7"
  }
 },
 "nbformat": 4,
 "nbformat_minor": 2
}
