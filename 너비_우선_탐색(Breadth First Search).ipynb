{
 "cells": [
  {
   "cell_type": "markdown",
   "metadata": {},
   "source": [
    "<img src=\"https://www.fun-coding.org/00_Images/bfsgraph.png\" width=700>"
   ]
  },
  {
   "cell_type": "code",
   "execution_count": 6,
   "metadata": {},
   "outputs": [],
   "source": [
    "graph = {\n",
    "    'A' : ['B', 'C'],\n",
    "    'B' : ['A', 'D'],\n",
    "    'C' : ['A', 'G', 'H', 'I'],\n",
    "    'D' : ['B', 'E', 'F'],\n",
    "    'E' : ['D'],\n",
    "    'F' : ['D'],\n",
    "    'G' : ['C'],\n",
    "    'H' : ['C'],\n",
    "    'I' : ['C', 'J'],\n",
    "    'J' : ['I'],\n",
    "}"
   ]
  },
  {
   "cell_type": "code",
   "execution_count": 8,
   "metadata": {},
   "outputs": [
    {
     "data": {
      "text/plain": [
       "dict"
      ]
     },
     "execution_count": 8,
     "metadata": {},
     "output_type": "execute_result"
    }
   ],
   "source": [
    "type(graph)"
   ]
  },
  {
   "cell_type": "code",
   "execution_count": 13,
   "metadata": {},
   "outputs": [],
   "source": [
    "def bfs(graph, start_node):\n",
    "    visited = list() # 방문한 노드 큐 \n",
    "    need_visit = list() # 방문해야 할 노드 큐 \n",
    "    \n",
    "    need_visit.append(start_node)\n",
    "    \n",
    "    while need_visit:\n",
    "        \n",
    "        node = need_visit.pop(0) # 리스트 자료형을 큐 형태로 사용.\n",
    "        \n",
    "        if node not in visited:\n",
    "            visited.append(node)\n",
    "            need_visit.extend(graph[node])\n",
    "            \n",
    "    return visited"
   ]
  },
  {
   "cell_type": "code",
   "execution_count": 14,
   "metadata": {},
   "outputs": [
    {
     "data": {
      "text/plain": [
       "['A', 'B', 'C', 'D', 'G', 'H', 'I', 'E', 'F', 'J']"
      ]
     },
     "execution_count": 14,
     "metadata": {},
     "output_type": "execute_result"
    }
   ],
   "source": [
    "bfs(graph, 'A')"
   ]
  }
 ],
 "metadata": {
  "kernelspec": {
   "display_name": "Python 3",
   "language": "python",
   "name": "python3"
  },
  "language_info": {
   "codemirror_mode": {
    "name": "ipython",
    "version": 3
   },
   "file_extension": ".py",
   "mimetype": "text/x-python",
   "name": "python",
   "nbconvert_exporter": "python",
   "pygments_lexer": "ipython3",
   "version": "3.7.7"
  }
 },
 "nbformat": 4,
 "nbformat_minor": 4
}
